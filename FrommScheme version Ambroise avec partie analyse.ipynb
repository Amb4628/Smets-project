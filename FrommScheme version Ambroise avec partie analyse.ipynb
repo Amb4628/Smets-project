{
 "cells": [
  {
   "cell_type": "markdown",
   "id": "1d60f74f-e864-4f12-8c9a-cfe183432ac7",
   "metadata": {},
   "source": [
    "## INTRODUCTION\n",
    "\n",
    "L'objectif de ce projet est d'implémenter un schéma fromm et de comparer les résultats obtenus par ce schéma aux résultats obtenus par le Godunov d'ordre 1 déjà implémenté. Dans un premier temps, nous allons rapidement présenter le schéma fromm et d'où il vient/ sur quels principes il s'appuit. Dans un deuxième temps, nous nous concentrerons sur l'implémentation du code. Et enfin en dernier nous commenterons et analyserons les résultats obtenus et nous discuterons de ce qu'ils représentent."
   ]
  },
  {
   "cell_type": "markdown",
   "id": "2fa0365f-2180-4c06-9b91-b25a90e241cf",
   "metadata": {},
   "source": [
    "## 1 - Partie théorique\n",
    "\n",
    "Le but de cette partie est de présenter rapidement le schéma fromm. Le schéma fromm est un schéma numérique utilisé pour résoudre des équations aux dérivées partielles, en particulier pour les problèmes de transport et d'advection dans des flux de fluides. Il appartient aux méthodes de différences finies et se situe entre les schémas centrés et décentrés, car il combine les approches amont et aval pour minimiser la dissipation et la dispersion numérique. Dans notre cas, on va coder un schéma de Lax Wendroff et un schéma Beam Warming et faire la moyenne des deux flux obtenus, ce qui nous donnera donc un schéma fromm.\n",
    "\n",
    "Le Lax Wendroff est un schéma de second ordre en temps et en espace pour résoudre des équations d'évolution hyperboliques. Il est conçu pour être non dissipatif, ce qui le rend adapté pour des problèmes de propagation d'ondes sans perte de signal. Il utilise une expansion de Taylor en temps ce qui garantit un ordre élevé de précision en temps. C'est un schéma centré qui est définit comme :\n",
    "\n",
    "\\begin{equation}\n",
    "    F_{j+1/2}^n = 0.5 \\times (f(w_{j+1}^n) + f(w_{j}^n)) - \\frac{A^2\\nu}{2}[w_{j+1}^n - w_{j}^n]\n",
    "\\end{equation}\n",
    "\n",
    "Le Beam Warming est un schéma de type différences finies utilisée pour résoudre les équations hyperboliques. Il s'agit d'un schéma de deuxième ordre en espace et en temps, ce qui le rend plus précis que les schémas de premier ordre pour les simulations nécessitant une bonne résolution des variations spatiales et temporelles de la solution. C'est un schéma décentré à gauche définit comme :\n",
    "\n",
    "\\begin{equation}\n",
    "    F_{j+1/2}^n = 0.5 \\times (3f(w_{j}^n) + f(w_{j-1}^n)) - \\frac{A^2\\nu}{2}[w_{j}^n - w_{j-1}^n]\n",
    "\\end{equation}"
   ]
  },
  {
   "cell_type": "markdown",
   "id": "247b9e11-b885-4535-8e38-199ad5eb0bc9",
   "metadata": {},
   "source": [
    "## 2 - Le code"
   ]
  },
  {
   "cell_type": "code",
   "execution_count": 4,
   "id": "a46fb960-de6a-4fa1-bd0a-017603d11a7f",
   "metadata": {},
   "outputs": [
    {
     "ename": "ModuleNotFoundError",
     "evalue": "No module named 'test_suite2'",
     "output_type": "error",
     "traceback": [
      "\u001b[1;31m---------------------------------------------------------------------------\u001b[0m",
      "\u001b[1;31mModuleNotFoundError\u001b[0m                       Traceback (most recent call last)",
      "Cell \u001b[1;32mIn[4], line 3\u001b[0m\n\u001b[0;32m      1\u001b[0m \u001b[38;5;28;01mimport\u001b[39;00m \u001b[38;5;21;01mnumpy\u001b[39;00m \u001b[38;5;28;01mas\u001b[39;00m \u001b[38;5;21;01mnp\u001b[39;00m\n\u001b[0;32m      2\u001b[0m \u001b[38;5;28;01mimport\u001b[39;00m \u001b[38;5;21;01mmatplotlib\u001b[39;00m\u001b[38;5;21;01m.\u001b[39;00m\u001b[38;5;21;01mpyplot\u001b[39;00m \u001b[38;5;28;01mas\u001b[39;00m \u001b[38;5;21;01mplt\u001b[39;00m\n\u001b[1;32m----> 3\u001b[0m \u001b[38;5;28;01mimport\u001b[39;00m \u001b[38;5;21;01mtest_suite2\u001b[39;00m \u001b[38;5;28;01mas\u001b[39;00m \u001b[38;5;21;01mts\u001b[39;00m\n\u001b[0;32m      4\u001b[0m \u001b[38;5;28;01mimport\u001b[39;00m \u001b[38;5;21;01mmisc\u001b[39;00m \u001b[38;5;28;01mas\u001b[39;00m \u001b[38;5;21;01mmi\u001b[39;00m\n\u001b[0;32m      5\u001b[0m epsilon \u001b[38;5;241m=\u001b[39m \u001b[38;5;241m1e-6\u001b[39m\n",
      "\u001b[1;31mModuleNotFoundError\u001b[0m: No module named 'test_suite2'"
     ]
    }
   ],
   "source": [
    "import numpy as np\n",
    "import matplotlib.pyplot as plt\n",
    "import test_suite2 as ts\n",
    "import misc as mi\n",
    "epsilon = 1e-6\n",
    "import GodunovFirstOrderUpwindScheme1 as godunov\n",
    "import test_bis2 as tsb"
   ]
  },
  {
   "cell_type": "code",
   "execution_count": null,
   "id": "656ff4e1-5442-47f2-a7c9-bc3ac30ccf9a",
   "metadata": {},
   "outputs": [],
   "source": [
    "#Définition de la classe Fromm : Schema fromm\n",
    "class Fromm():\n",
    "#Récupération des paramètres d'initialisation\n",
    "    def __init__(self, testCase):\n",
    "        self.dx = testCase.dx\n",
    "        self.dt = testCase.dt\n",
    "        self.tFinal = testCase.tFinal\n",
    "        self.nu = testCase.nu\n",
    "        self.u0 = testCase.u0\n",
    "        self.flux = testCase.flux\n",
    "        self.u_star = testCase.u_star\n",
    "        self.a = testCase.a\n",
    "        self.x = testCase.x\n",
    "        self.uFinal = testCase.uFinal\n",
    "        \n",
    "#Code du Beam Warming : Flux au pas j (FLux0) et au pas j+1(Flux1)\n",
    "    def fillFlux0_Beam(self, w, f, a):\n",
    "        N = w.shape[0] #Dimension de w pour permettre la création de tableaux de la même dimension\n",
    "        a_ = np.empty(N) #Création du tableau de la matrice A \n",
    "        #Boucle de remplissage de la matrice A avec la formule A = 1/2(a(w[j-1]) +a(w[j-2])) avec a la vitesse de phase\n",
    "        for j in range(2, N-2):\n",
    "            a_[j] = 0.5*(a(w[j-1])+a(w[j-2]))\n",
    "        flux = np.empty(N) #Création d'un tableau vide pour stocker les valeurs de flux\n",
    "        flux[2:-2] = 0.5 *(3*f(w[1:-3])-f(w[0:-4]))  - 0.5 * a_[2:-2]*a_[2:-2]*self.nu *(w[1:-3] -  w[0:-4]) #Remplissage du tableau de flux avec la formule Beam\n",
    "        flux = mi.fillGhosts(flux,num_of_ghosts=2)\n",
    "        return flux\n",
    "\n",
    "#Même procédé que pour le Flux au temps j mais au temps j+1 = Flux1\n",
    "    def fillFlux1_Beam(self, w, f, a):\n",
    "        N = w.shape[0]\n",
    "        a_ = np.empty(N)\n",
    "        for j in range(2, N-2):\n",
    "            a_[j] = 0.5*(a(w[j])+a(w[j-1]))\n",
    "        flux = np.empty(N)\n",
    "        flux[2:-2] = 0.5 *(3*f(w[2:-2])-f(w[1:-3]))  - 0.5 * a_[2:-2]*a_[2:-2]*self.nu *( w[2:-2] -  w[1:-3])\n",
    "        flux = mi.fillGhosts(flux,num_of_ghosts=2)\n",
    "        return flux\n",
    "\n",
    "#Code du Lax Wendroff : Flux au pas j (FLux0) et au pas j+1(Flux1)\n",
    "    def fillFlux0_Lax(self, w, f, a):\n",
    "        N=w.shape[0]\n",
    "        a_=np.empty(N)\n",
    "        for i in range(1,N-1):\n",
    "            a_[i]=a(w[i])\n",
    "        flux=np.empty(N)\n",
    "        flux[1:-1]=0.5 *(f(w[1:-1])+f(w[0:-2]))  - 0.5 * a_[1:-1]*a_[1:-1]*self.nu *(w[1:-1] -  w[0:-2])\n",
    "        flux=mi.fillGhosts(flux)\n",
    "        return flux\n",
    " \n",
    "    def fillFlux1_Lax(self, w, f, a):\n",
    "        N=w.shape[0]\n",
    "        a_=np.empty(N)\n",
    "        for i in range(1,N-1):\n",
    "            a_[i]=a(w[i+1])\n",
    "        flux=np.empty(N)\n",
    "        flux[1:-1]=0.5 *(f(w[2:])+f(w[1:-1]))  - 0.5 * a_[1:-1]*a_[1:-1]*self.nu *(w[2:] -  w[1:-1])\n",
    "        flux=mi.fillGhosts(flux)\n",
    "        \n",
    "        return flux\n",
    "#Définition de la fonction compute\n",
    "    def compute(self, tFinal):\n",
    "        Nt = int(tFinal/self.dt) #Nombre de pas de temps final\n",
    "        dx = self.dx #Pas d'espace\n",
    "\n",
    "        u0w = mi.addGhosts(self.u0(self.x),num_of_ghosts=2) #Initialisation de u = u0\n",
    "        u0w = mi.fillGhosts(u0w,num_of_ghosts=2) #Remplissage periodique des cases fantômes\n",
    "\n",
    "        xw = mi.addGhosts(self.x,num_of_ghosts=2) #Ajustement de x à la dimension de w\n",
    "        \n",
    "        xw[1]=xw[2]-dx\n",
    "        xw[0] = xw[1]-dx\n",
    "        xw[-2]= xw[-3]+dx\n",
    "        xw[-1] = xw[-2]+dx\n",
    "        \n",
    "        #Création de tableaux vides pour u au temps n+1 et le flux au pas j et j+1\n",
    "        u1w = np.empty((u0w.shape[0])) \n",
    "        F0w = np.empty((u0w.shape[0]))\n",
    "        F1w = np.empty((u0w.shape[0]))\n",
    "\n",
    "        for i in range(Nt):\n",
    "            #Code du fromm = 0.5(Flux(Lax) + Flux(Beam))\n",
    "            F0w = 0.5*(self.fillFlux0_Beam(u0w, self.flux, self.a) + self.fillFlux0_Lax(u0w, self.flux, self.a)) \n",
    "            F1w = 0.5*(self.fillFlux1_Beam(u0w, self.flux, self.a) + self.fillFlux1_Lax(u0w, self.flux, self.a))\n",
    "            F1w = mi.fillGhosts(F1w,num_of_ghosts=2)\n",
    "\n",
    "            u1w[2:-2] = u0w[2:-2] - self.nu * (F1w[2:-2] - F0w[2:-2]) #Détermination de u1 au pas n+1 en prenant en compte l'équation dtu + dxf = 0 et en discrétisant\n",
    "            u1w = mi.fillGhosts(u1w,num_of_ghosts=2) #Remplissage des cases fantomes par des conditions périodiques\n",
    "            u0w = u1w\n",
    "\n",
    "        self.uF = u1w[2:-2]\n"
   ]
  },
  {
   "cell_type": "code",
   "execution_count": null,
   "id": "f1cde15e-33ee-4b6c-8f1b-0a64dc140f4d",
   "metadata": {},
   "outputs": [],
   "source": [
    "#Vérification des tests : comparaison fromm Godunov\n",
    "#Test 1\n",
    "tst = ts.Test1()\n",
    "scheme = Fromm(tst)\n",
    "schemegov = godunov.Godunov1(tst, form='vanilla')\n",
    "scheme.compute(scheme.tFinal)\n",
    "schemegov.compute(schemegov.tFinal)\n",
    "\n",
    "#Test2\n",
    "tst2 = ts.Test2()\n",
    "scheme2 = Fromm(tst2)\n",
    "schemegov2 = godunov.Godunov1(tst2, form='vanilla')\n",
    "scheme2.compute(scheme2.tFinal)\n",
    "schemegov2.compute(schemegov2.tFinal)\n",
    "\n",
    "#Test3\n",
    "tst3 = ts.Test3()\n",
    "scheme3 = Fromm(tst3)\n",
    "schemegov3 = godunov.Godunov1(tst3, form='vanilla')\n",
    "scheme3.compute(scheme3.tFinal)\n",
    "schemegov3.compute(schemegov3.tFinal)\n",
    "\n",
    "#Test4\n",
    "tst4 = ts.Test4()\n",
    "scheme4 = Fromm(tst4)\n",
    "schemegov4 = godunov.Godunov1(tst4, form='vanilla')\n",
    "scheme4.compute(scheme4.tFinal)\n",
    "schemegov4.compute(schemegov4.tFinal)\n",
    "\n",
    "#Test5\n",
    "tst5 = ts.Test5()\n",
    "scheme5 = Fromm(tst5)\n",
    "schemegov5 = godunov.Godunov1(tst5, form='vanilla')\n",
    "scheme5.compute(scheme5.tFinal)\n",
    "schemegov5.compute(schemegov5.tFinal)\n",
    "\n",
    "#Test6 \n",
    "tst6 = tsb.Test6()\n",
    "scheme6 = Fromm(tst6)\n",
    "schemegov6 = godunov.Godunov1(tst6, form='vanilla')\n",
    "scheme6.compute(scheme6.tFinal)\n",
    "schemegov6.compute(schemegov6.tFinal)\n",
    "\n",
    "fig, axs = plt.subplots(2, 3, figsize=(12, 6))\n",
    "axs[0, 0].plot(scheme.x, scheme.uFinal)\n",
    "axs[0, 0].plot(schemegov.x, schemegov.uF, marker = \"o\", markersize=5, linestyle = \"None\",label =\"Godunov\")\n",
    "axs[0, 0].plot(scheme.x, scheme.uF, marker = \"o\", markersize=5, linestyle = \"None\",label = \"fromm\")\n",
    "axs[0, 0].legend(loc=\"upper right\")\n",
    "axs[0, 0].grid(True)\n",
    "axs[0, 0].set_title(\"Test1\")\n",
    "\n",
    "axs[0, 1].plot(scheme2.x, scheme2.uFinal)\n",
    "axs[0, 1].plot(schemegov2.x, schemegov2.uF, marker = \"o\", markersize=5, linestyle = \"None\",label =\"Godunov\")\n",
    "axs[0, 1].plot(scheme2.x, scheme2.uF, marker = \"o\", markersize=5, linestyle = \"None\",label = \"fromm\")\n",
    "axs[0, 1].legend(loc=\"upper right\")\n",
    "axs[0, 1].grid(True)\n",
    "axs[0, 1].set_title(\"Test2\")\n",
    "\n",
    "axs[0, 2].plot(scheme3.x, scheme3.uFinal)\n",
    "axs[0, 2].plot(schemegov3.x, schemegov3.uF, marker = \"o\", markersize=5, linestyle = \"None\",label =\"Godunov\")\n",
    "axs[0, 2].plot(scheme3.x, scheme3.uF, marker = \"o\", markersize=5, linestyle = \"None\",label=\"fromm\")\n",
    "axs[0, 2].legend(loc=\"upper right\")\n",
    "axs[0, 2].grid(True)\n",
    "axs[0, 2].set_title(\"Test3\")\n",
    "\n",
    "axs[1, 0].plot(scheme4.x, scheme4.uFinal)\n",
    "axs[1, 0].plot(schemegov4.x, schemegov4.uF, marker = \"o\", markersize=5, linestyle = \"None\",label =\"Godunov\")\n",
    "axs[1, 0].plot(scheme4.x, scheme4.uF, marker = \"o\", markersize=5, linestyle = \"None\",label = \"fromm\")\n",
    "axs[1, 0].legend(loc=\"upper left\")\n",
    "axs[1, 0].grid(True)\n",
    "axs[1, 0].set_title(\"Test4\")\n",
    "\n",
    "axs[1, 1].plot(scheme5.x, scheme5.uFinal)\n",
    "axs[1, 1].plot(schemegov5.x, schemegov5.uF, marker = \"o\", markersize=5, linestyle = \"None\",label =\"Godunov\")\n",
    "axs[1, 1].plot(scheme5.x, scheme5.uF, marker = \"o\", markersize=5, linestyle = \"None\",label = \"fromm\")\n",
    "axs[1, 1].legend(loc=\"upper left\")\n",
    "axs[1, 1].grid(True)\n",
    "axs[1, 1].set_title(\"Test5\")\n",
    "\n",
    "axs[1, 2].plot(scheme6.x, scheme6.uFinal)\n",
    "axs[1, 2].plot(schemegov6.x, schemegov6.uF, marker = \"o\", markersize=5, linestyle = \"None\",label =\"Godunov\")\n",
    "axs[1, 2].plot(scheme6.x, scheme6.uF, marker = \"o\", markersize=5, linestyle = \"None\",label = \"fromm\")\n",
    "axs[1, 2].legend(loc=\"upper left\")\n",
    "axs[1, 2].grid(True)\n",
    "axs[1, 2].set_title(\"Test6\")\n",
    "\n",
    "plt.tight_layout()\n",
    "plt.show()"
   ]
  },
  {
   "cell_type": "markdown",
   "id": "42130b38-9d47-4fd7-8aee-c2c1ecc15290",
   "metadata": {},
   "source": [
    "- Analyser les discontinuités : Les instabilités à gauche = Beam Warming décentré à gauche => entraîne des discontinuités à gauche. Ordre 2 donc gère mal les discontinuités => Cours de smets\n",
    "- Raréfaction pour le test 5 => On a un endroit vers 0 où il n'y a aucun pts de calculés."
   ]
  },
  {
   "cell_type": "markdown",
   "id": "3556afcc",
   "metadata": {},
   "source": [
    "## 3- Analyse"
   ]
  },
  {
   "cell_type": "markdown",
   "id": "84539179",
   "metadata": {},
   "source": [
    "La littérature nous donne pour l'erreur de troncature du schéma Fromm:"
   ]
  },
  {
   "cell_type": "markdown",
   "id": "59490828",
   "metadata": {},
   "source": [
    "$$\n",
    "\\frac{\\partial u}{\\partial t} + a \\frac{\\partial u}{\\partial x} = \\frac{a \\Delta x^2}{6} (1 - \\lambda a) \\left(\\frac{1}{2} - \\lambda a\\right) \\frac{\\partial^3 u}{\\partial x^3}\n",
    "- \\frac{a \\Delta x^3}{8} (1 - \\lambda a) \\left((\\lambda a)^2 - \\lambda a + 1 \\right) \\frac{\\partial^4 u}{\\partial x^4} + \\cdots\n",
    "$$\n"
   ]
  },
  {
   "cell_type": "markdown",
   "id": "0a948f26",
   "metadata": {},
   "source": [
    "Où $\\lambda $ correspond à $\\frac{\\Delta t}{\\Delta x}$"
   ]
  },
  {
   "cell_type": "markdown",
   "id": "720f0d0c",
   "metadata": {},
   "source": [
    "Les termes contenant une dérivée d'ordre impair correspondent à la dispersion numérique et les termes pair à de la diffusion numérique introduisant un effet de lissage.\n",
    "\n",
    "On s'attend donc à ce que lors des transitions abruptes donc des dérivées importantes le schéma Fromm ait du mal à suivre la solution"
   ]
  },
  {
   "cell_type": "markdown",
   "id": "2cebb6a5",
   "metadata": {},
   "source": [
    "### Test 1 "
   ]
  },
  {
   "cell_type": "markdown",
   "id": "4be48598",
   "metadata": {},
   "source": [
    "Le schéma de Fromm suit très bien la forme sinusoïdale de l'onde.\n",
    "Le schéma de Godunov semble introduire une dissipation numérique, ce qui \"lisse\" l'amplitude des oscillations.\n",
    "\n",
    "Le schéma de Fromm est plus précis pour ce type de flux continu et régulier.\n",
    "Godunov est dissipatif, ce qui peut être un avantage dans des flux présentant des chocs mais est moins précis pour des ondes douces."
   ]
  },
  {
   "cell_type": "markdown",
   "id": "6b545bce",
   "metadata": {},
   "source": [
    "### Test 2"
   ]
  },
  {
   "cell_type": "markdown",
   "id": "77590937",
   "metadata": {},
   "source": [
    "Le schéma de Fromm présente des oscillations près des discontinuités.\n",
    "Le schéma de Godunov gère mieux les chocs, avec une transition plus \"plate\" et stable.\n",
    "\n",
    "Les oscillations de Fromm sont dues à son caractère centré, qui ne gère pas correctement les discontinuités.\n",
    "Godunov, avec sa nature plus dissipative, stabilise la discontinuité."
   ]
  },
  {
   "cell_type": "markdown",
   "id": "51e33e6e",
   "metadata": {},
   "source": [
    "### Test 3"
   ]
  },
  {
   "cell_type": "markdown",
   "id": "1fee4e62",
   "metadata": {},
   "source": [
    "Les oscillations du schéma de Fromm sont plus visibles, particulièrement sur le front montant.\n",
    "Godunov reste plus lisse mais montre une diffusion accrue, ce qui arrondit les fronts.\n",
    "\n",
    "Encore une fois, le schéma de Fromm souffre de ses oscillations autour des transitions abruptes, ce qui peut poser problème pour des flux avec gradients importants.\n",
    "Godunov dissipe plus les gradients, mais reste stable."
   ]
  },
  {
   "cell_type": "markdown",
   "id": "06026ccd",
   "metadata": {},
   "source": [
    "### Test 4"
   ]
  },
  {
   "cell_type": "markdown",
   "id": "3bd94c40",
   "metadata": {},
   "source": [
    "Les oscillations spurielles de Fromm apparaissent aux points de changement de pente (comme les fronts abrupts).\n",
    "Godunov reste stable mais perd des détails (effet de diffusion numérique).\n",
    "\n",
    "Ce test met en évidence la limite des schémas centrés pour gérer les discontinuités et transitions fortes."
   ]
  },
  {
   "cell_type": "markdown",
   "id": "4999581b",
   "metadata": {},
   "source": [
    "### Test 5"
   ]
  },
  {
   "cell_type": "markdown",
   "id": "201ebacf",
   "metadata": {},
   "source": [
    "Le schéma de Fromm a du mal à gérer la discontinuité, avec des oscillations significatives.\n",
    "Godunov gère bien le choc mais diffuse le plateau.\n",
    "\n",
    "Fromm échoue dans ce cas car il est mal adapté aux écoulements avec des chocs.\n",
    "Godunov perd en précision dans les zones lisses (plateaux) à cause de sa dissipation."
   ]
  },
  {
   "cell_type": "markdown",
   "id": "9143892b",
   "metadata": {},
   "source": [
    "### Test 6"
   ]
  },
  {
   "cell_type": "markdown",
   "id": "342bc476",
   "metadata": {},
   "source": [
    "Le test 6 est l'homologue du test 3 avec une vitesse négative.\n",
    "\n",
    "Fromm montre des oscillations importantes autour des fronts.\n",
    "Godunov lisse les fronts et réduit les oscillations mais arrondit le profil général.\n",
    "\n",
    "Fromm est instable près des chocs.\n",
    "Godunov sacrifie la précision pour garantir la stabilité.\n",
    "\n"
   ]
  },
  {
   "cell_type": "code",
   "execution_count": null,
   "id": "dc692032",
   "metadata": {},
   "outputs": [],
   "source": []
  }
 ],
 "metadata": {
  "kernelspec": {
   "display_name": "Python 3 (ipykernel)",
   "language": "python",
   "name": "python3"
  },
  "language_info": {
   "codemirror_mode": {
    "name": "ipython",
    "version": 3
   },
   "file_extension": ".py",
   "mimetype": "text/x-python",
   "name": "python",
   "nbconvert_exporter": "python",
   "pygments_lexer": "ipython3",
   "version": "3.10.9"
  }
 },
 "nbformat": 4,
 "nbformat_minor": 5
}
